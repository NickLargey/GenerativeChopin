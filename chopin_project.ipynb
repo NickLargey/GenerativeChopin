{
  "nbformat": 4,
  "nbformat_minor": 0,
  "metadata": {
    "colab": {
      "provenance": []
    },
    "kernelspec": {
      "name": "python3",
      "display_name": "Python 3"
    },
    "language_info": {
      "name": "python"
    }
  },
  "cells": [
    {
      "cell_type": "code",
      "source": [
        "!pip install -q xmltodict mido music21"
      ],
      "metadata": {
        "colab": {
          "base_uri": "https://localhost:8080/"
        },
        "id": "85bYOgXy6h-8",
        "outputId": "d3d65438-c451-4515-e4bc-83173c377aa3"
      },
      "execution_count": null,
      "outputs": [
        {
          "output_type": "stream",
          "name": "stdout",
          "text": [
            "\u001b[?25l     \u001b[90m━━━━━━━━━━━━━━━━━━━━━━━━━━━━━━━━━━━━━━━━\u001b[0m \u001b[32m0.0/50.3 kB\u001b[0m \u001b[31m?\u001b[0m eta \u001b[36m-:--:--\u001b[0m\r\u001b[2K     \u001b[90m━━━━━━━━━━━━━━━━━━━━━━━━━━━━━━━━━━━━━━━━\u001b[0m \u001b[32m50.3/50.3 kB\u001b[0m \u001b[31m1.5 MB/s\u001b[0m eta \u001b[36m0:00:00\u001b[0m\n",
            "\u001b[?25h"
          ]
        }
      ]
    },
    {
      "cell_type": "code",
      "execution_count": null,
      "metadata": {
        "id": "5z0pukhiUQRm"
      },
      "outputs": [],
      "source": [
        "import mido\n",
        "import music21\n",
        "import numpy as np\n",
        "import pandas as pd\n",
        "from mido import Message, MidiFile, MidiTrack\n",
        "from sklearn.preprocessing import MinMaxScaler\n",
        "from tensorflow import keras\n",
        "from tensorflow.keras.callbacks import ModelCheckpoint\n",
        "from tensorflow.keras.layers import LSTM, Activation, Dense, Dropout, Flatten\n",
        "from tensorflow.keras.models import Sequential\n",
        "from tensorflow.keras.optimizers import Adam\n",
        "from tensorflow.keras.preprocessing import sequence\n",
        "from google.colab import drive\n",
        "import os\n",
        "import csv\n",
        "\n",
        "#### Eventually I'd like to get it working with MusicXML files as well ###\n",
        "# import xmltodict\n",
        "# import xml.etree.ElementTree as ETree\n",
        "\n",
        "# drive.mount('/content/drive')"
      ]
    },
    {
      "cell_type": "markdown",
      "source": [
        "# MusicXML files"
      ],
      "metadata": {
        "id": "80xMHwa67PKV"
      }
    },
    {
      "cell_type": "code",
      "source": [
        "# import lxml\n",
        "# import zipfile"
      ],
      "metadata": {
        "id": "dIQRhgsKHwsv"
      },
      "execution_count": null,
      "outputs": []
    },
    {
      "cell_type": "code",
      "source": [
        "# DIRECTORY = \"drive/MyDrive/Colab Notebooks/chopin_project/scores/music_xml/zipped_xml/\"\n",
        "# EX_DIR = \"drive/MyDrive/Colab Notebooks/chopin_project/scores/music_xml/unzipped_xml/\"\n",
        "# FILE_EXT = \".mxl\"\n",
        "\n",
        "# for filename in os.listdir(DIRECTORY):\n",
        "#   if filename.endswith(FILE_EXT):\n",
        "#     try:\n",
        "#       full_path = os.path.join(DIRECTORY, filename)\n",
        "#       with zipfile.ZipFile(full_path, 'r') as zip_ref:\n",
        "#         zip_ref.extractall(EX_DIR)\n",
        "#       for extracted_file in os.listdir(EX_DIR):\n",
        "#           # Assuming the original file name is stored in the 'filename' variable\n",
        "#           original_name, _ = os.path.splitext(filename)\n",
        "#           extracted_file_path = os.path.join(EX_DIR, extracted_file)\n",
        "#           new_name = os.path.join(EX_DIR, original_name)  # Construct the new name\n",
        "#           os.rename(extracted_file_path, new_name)\n",
        "\n",
        "#     except Exception as e:\n",
        "#       print(f\"error: {e}\")\n",
        "\n",
        "# xml_data = open(DIRECTORY + EXISTING_FILE, 'r').read()\n",
        "# xml_dict = xmltodict.parse(xml_data)\n",
        "# tree = xml_dict['score-partwise']['part']['measure']\n",
        "# FILE_EXT = \".xml\"\n",
        "\n",
        "# for filename in os.listdir(DIRECTORY):\n",
        "#   if filename.endswith(FILE_EXT):\n",
        "#   d = []\n",
        "\n",
        "#   for n,m in enumerate(tree):\n",
        "#     measure = tree[n]['note']\n",
        "#     for i,j in enumerate(measure):\n",
        "#       chord = int(\"chord\" in measure[i])\n",
        "#       if int(\"rest\" not in measure[i]):\n",
        "#         pitch = measure[i].get('pitch').get('step')\n",
        "#         alter = measure[i].get('pitch').get('alter')\n",
        "#         octave = measure[i].get('pitch').get('octave')\n",
        "#       dur = measure[i].get(\"duration\")\n",
        "#       d.append([chord, pitch, alter, octave, dur])\n",
        "#       chord = pitch = alter = octave = dur = None\n",
        "\n",
        "# print(d[:10])\n",
        "\n",
        "# df = pd.DataFrame(d, columns=['chord', 'pitch', 'alter', 'octive', 'duration'])\n",
        "\n",
        "# df.shape\n",
        "# xml_data = DIRECTORY + EXISTING_FILE\n",
        "# p_tree = ETree.parse(xml_data)\n",
        "# root = p_tree.getroot()\n",
        "\n",
        "# for measure in root.iter(\"measure\")\n",
        "#   measure_num = measure.attrib.get('number')\n",
        "#   for note in measure:\n",
        "\n",
        "\n",
        "    # Flatten the score (convert nested scores into flat content)\n",
        "    # flat_score = score.flatten()\n",
        "\n",
        "    # Append the flattened score to the top-level score\n",
        "    # top_level_score.append(flat_score)"
      ],
      "metadata": {
        "id": "rHzvo-EN6-1M"
      },
      "execution_count": null,
      "outputs": []
    },
    {
      "cell_type": "markdown",
      "source": [
        "# Read in Midi files to create DF"
      ],
      "metadata": {
        "id": "cvsJtiwD7Yur"
      }
    },
    {
      "cell_type": "code",
      "source": [
        "\n",
        "DIRECTORY = \"drive/MyDrive/Colab Notebooks/chopin_project/scores/midi/\"\n",
        "FILE_EXT = \".mid\"\n",
        "\n",
        "midi = []\n",
        "with open(DIRECTORY + \"midi_matrix.csv\", \"w\") as f:\n",
        "  writer = csv.writer(f)\n",
        "  writer.writerow(('Note', 'Velocity', 'time', 'acc_time'))\n",
        "  for filename in os.listdir(DIRECTORY):\n",
        "    a_t = 0\n",
        "    if filename.endswith(FILE_EXT):\n",
        "      mfp = os.path.join(DIRECTORY, filename)\n",
        "      midi_f = mido.MidiFile(mfp)\n",
        "\n",
        "      for msg in midi_f:\n",
        "        s_line = str(msg).split()\n",
        "        if s_line[0] == 'note_on':\n",
        "          n = s_line[2].split('=')\n",
        "          v = s_line[3].split('=')\n",
        "          t = s_line[4].split('=')\n",
        "          a_t = a_t + float(t[-1])\n",
        "          writer.writerow((n[-1], v[-1], t[-1], a_t))\n",
        "\n",
        "f.close()\n"
      ],
      "metadata": {
        "id": "XB4MrFGcVqrH"
      },
      "execution_count": null,
      "outputs": []
    },
    {
      "cell_type": "code",
      "source": [
        "df = pd.read_csv(DIRECTORY + \"midi_matrix.csv\")\n",
        "df.shape"
      ],
      "metadata": {
        "colab": {
          "base_uri": "https://localhost:8080/"
        },
        "id": "jwbCLP1VvVl_",
        "outputId": "82d7980b-c461-4c37-f100-15631a34ba9c"
      },
      "execution_count": null,
      "outputs": [
        {
          "output_type": "execute_result",
          "data": {
            "text/plain": [
              "(29416, 4)"
            ]
          },
          "metadata": {},
          "execution_count": 18
        }
      ]
    },
    {
      "cell_type": "code",
      "source": [],
      "metadata": {
        "id": "Skjw-NvAzZGm"
      },
      "execution_count": null,
      "outputs": []
    }
  ]
}